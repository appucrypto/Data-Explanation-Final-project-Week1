{
 "cells": [
  {
   "cell_type": "markdown",
   "metadata": {},
   "source": [
    "\n",
    "## Data Required\n",
    "\n",
    "For this assignment, I will be utilizing the Foursquare API to pull the following location data on restaurants in Hoboken, NJ:\n",
    "\n",
    "- Venue Name\n",
    "- Venue ID\n",
    "- Venue Location\n",
    "- Venue Category\n",
    "- Rating\n",
    "- Price\n",
    "- Count of Likes\n",
    "- Phrases\n",
    "\n",
    "## Data Acquisition Approach\n",
    "\n",
    "To acquire the data mentioned above, I will need to do the following:\n",
    "\n",
    "Get geolocator lat and long coordinates for Hoboken, NJ\n",
    "Get a list of all venues in Hoboken\n",
    "Get venue IDs for each venue in Hoboken\n",
    "Pull venue name, location, category, rating, price, count of likes and phrases for each venue\n",
    "\n",
    "## Data Usage Approach - Clustering\n",
    "\n",
    "I will take the gathered data (see above in Data Acquisition Approach and Data Required sections) and will create a k-means clustering algorithm \n",
    "that groups restaurants into 4-5 clusters so that people looking to eat in Hoboken can easily see which restaurants will cater to what their needs."
   ]
  },
  {
   "cell_type": "code",
   "execution_count": null,
   "metadata": {},
   "outputs": [],
   "source": []
  }
 ],
 "metadata": {
  "kernelspec": {
   "display_name": "Python 3",
   "language": "python",
   "name": "python3"
  },
  "language_info": {
   "codemirror_mode": {
    "name": "ipython",
    "version": 3
   },
   "file_extension": ".py",
   "mimetype": "text/x-python",
   "name": "python",
   "nbconvert_exporter": "python",
   "pygments_lexer": "ipython3",
   "version": "3.6.8"
  }
 },
 "nbformat": 4,
 "nbformat_minor": 2
}
